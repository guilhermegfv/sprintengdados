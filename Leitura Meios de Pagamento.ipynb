{
 "cells": [
  {
   "cell_type": "code",
   "execution_count": 0,
   "metadata": {
    "application/vnd.databricks.v1+cell": {
     "cellMetadata": {
      "byteLimit": 2048000,
      "rowLimit": 10000
     },
     "inputWidgets": {},
     "nuid": "d844b302-d8b8-4011-9bad-cf52e2b2bdf3",
     "showTitle": false,
     "title": ""
    }
   },
   "outputs": [],
   "source": [
    "import json\n",
    "import requests\n",
    "from pyspark.sql.functions import explode, col, split, trim, expr\n",
    "import pandas as pd"
   ]
  },
  {
   "cell_type": "code",
   "execution_count": 0,
   "metadata": {
    "application/vnd.databricks.v1+cell": {
     "cellMetadata": {
      "byteLimit": 2048000,
      "rowLimit": 10000
     },
     "inputWidgets": {},
     "nuid": "2e0fccf8-759f-45e0-8b8f-e97e831507d8",
     "showTitle": false,
     "title": ""
    }
   },
   "outputs": [],
   "source": [
    "# Step 1: Make an API request\n",
    "url = \"https://olinda.bcb.gov.br/olinda/servico/MPV_DadosAbertos/versao/v1/odata/MeiosdePagamentosMensalDA(AnoMes=@AnoMes)?@AnoMes='202401'&$top=10000000&$format=json&$select=AnoMes,quantidadePix,valorPix,quantidadeTED,valorTED,quantidadeTEC,valorTEC,quantidadeCheque,valorCheque,quantidadeBoleto,valorBoleto,quantidadeDOC,valorDOC\"  # Replace with your API endpoint\n",
    "\n",
    "\n",
    "response = requests.get(url)\n",
    "\n",
    "# Check if the request was successful\n",
    "if response.status_code == 200:\n",
    "    # Step 2: Normalize the JSON response\n",
    "    data = response.json()\n",
    "    normalized_data = pd.json_normalize(data['value'], sep = ',')\n",
    "    # Step 3: Convert to pandas DataFrame\n",
    "    df = pd.DataFrame(normalized_data)\n",
    "else:\n",
    "    print(f\"Error: {response.status_code}\")\n",
    "    print(response.text)\n"
   ]
  },
  {
   "cell_type": "code",
   "execution_count": 0,
   "metadata": {
    "application/vnd.databricks.v1+cell": {
     "cellMetadata": {
      "byteLimit": 2048000,
      "rowLimit": 10000
     },
     "inputWidgets": {},
     "nuid": "54790e6d-203a-40f1-9cb9-b4a526620035",
     "showTitle": false,
     "title": ""
    }
   },
   "outputs": [
    {
     "output_type": "display_data",
     "data": {
      "text/html": [
       "<style scoped>\n",
       "  .table-result-container {\n",
       "    max-height: 300px;\n",
       "    overflow: auto;\n",
       "  }\n",
       "  table, th, td {\n",
       "    border: 1px solid black;\n",
       "    border-collapse: collapse;\n",
       "  }\n",
       "  th, td {\n",
       "    padding: 5px;\n",
       "  }\n",
       "  th {\n",
       "    text-align: left;\n",
       "  }\n",
       "</style><div class='table-result-container'><table class='table-result'><thead style='background-color: white'><tr><th>AnoMes</th><th>quantidadePix</th><th>valorPix</th><th>quantidadeTED</th><th>valorTED</th><th>quantidadeTEC</th><th>valorTEC</th><th>quantidadeCheque</th><th>valorCheque</th><th>quantidadeBoleto</th><th>valorBoleto</th><th>quantidadeDOC</th><th>valorDOC</th></tr></thead><tbody><tr><td>202405</td><td>5229671.82</td><td>2137438.65</td><td>69023.11</td><td>3482036.97</td><td>0.0</td><td>0.0</td><td>10467.85</td><td>40133.55</td><td>349180.92</td><td>506302.82</td><td>0.0</td><td>0.0</td></tr><tr><td>202404</td><td>4924640.69</td><td>2083741.65</td><td>70647.15</td><td>3652606.48</td><td>0.0</td><td>0.0</td><td>11179.22</td><td>43295.4</td><td>361633.28</td><td>524619.69</td><td>0.0</td><td>0.0</td></tr><tr><td>202403</td><td>4903340.45</td><td>1936144.86</td><td>67565.05</td><td>3333054.27</td><td>0.0</td><td>0.0</td><td>10122.46</td><td>36644.55</td><td>336435.46</td><td>469047.59</td><td>0.0</td><td>0.0</td></tr><tr><td>202402</td><td>4367128.53</td><td>1718214.16</td><td>65805.87</td><td>2981226.45</td><td>60.01</td><td>109.32</td><td>10373.38</td><td>37076.26</td><td>332269.47</td><td>463066.01</td><td>61.89</td><td>34.21</td></tr><tr><td>202401</td><td>4371542.0</td><td>1818473.97</td><td>70343.25</td><td>3337344.85</td><td>387.18</td><td>815.94</td><td>11919.12</td><td>41615.89</td><td>363550.32</td><td>516702.44</td><td>600.76</td><td>616.58</td></tr></tbody></table></div>"
      ]
     },
     "metadata": {
      "application/vnd.databricks.v1+output": {
       "addedWidgets": {},
       "aggData": [],
       "aggError": "",
       "aggOverflow": false,
       "aggSchema": [],
       "aggSeriesLimitReached": false,
       "aggType": "",
       "arguments": {},
       "columnCustomDisplayInfos": {},
       "data": [
        [
         "202405",
         5229671.82,
         2137438.65,
         69023.11,
         3482036.97,
         0.0,
         0.0,
         10467.85,
         40133.55,
         349180.92,
         506302.82,
         0.0,
         0.0
        ],
        [
         "202404",
         4924640.69,
         2083741.65,
         70647.15,
         3652606.48,
         0.0,
         0.0,
         11179.22,
         43295.4,
         361633.28,
         524619.69,
         0.0,
         0.0
        ],
        [
         "202403",
         4903340.45,
         1936144.86,
         67565.05,
         3333054.27,
         0.0,
         0.0,
         10122.46,
         36644.55,
         336435.46,
         469047.59,
         0.0,
         0.0
        ],
        [
         "202402",
         4367128.53,
         1718214.16,
         65805.87,
         2981226.45,
         60.01,
         109.32,
         10373.38,
         37076.26,
         332269.47,
         463066.01,
         61.89,
         34.21
        ],
        [
         "202401",
         4371542.0,
         1818473.97,
         70343.25,
         3337344.85,
         387.18,
         815.94,
         11919.12,
         41615.89,
         363550.32,
         516702.44,
         600.76,
         616.58
        ]
       ],
       "datasetInfos": [],
       "dbfsResultPath": null,
       "isJsonSchema": true,
       "metadata": {},
       "overflow": false,
       "plotOptions": {
        "customPlotOptions": {},
        "displayType": "table",
        "pivotAggregation": null,
        "pivotColumns": null,
        "xColumns": null,
        "yColumns": null
       },
       "removedWidgets": [],
       "schema": [
        {
         "metadata": "{}",
         "name": "AnoMes",
         "type": "\"string\""
        },
        {
         "metadata": "{}",
         "name": "quantidadePix",
         "type": "\"double\""
        },
        {
         "metadata": "{}",
         "name": "valorPix",
         "type": "\"double\""
        },
        {
         "metadata": "{}",
         "name": "quantidadeTED",
         "type": "\"double\""
        },
        {
         "metadata": "{}",
         "name": "valorTED",
         "type": "\"double\""
        },
        {
         "metadata": "{}",
         "name": "quantidadeTEC",
         "type": "\"double\""
        },
        {
         "metadata": "{}",
         "name": "valorTEC",
         "type": "\"double\""
        },
        {
         "metadata": "{}",
         "name": "quantidadeCheque",
         "type": "\"double\""
        },
        {
         "metadata": "{}",
         "name": "valorCheque",
         "type": "\"double\""
        },
        {
         "metadata": "{}",
         "name": "quantidadeBoleto",
         "type": "\"double\""
        },
        {
         "metadata": "{}",
         "name": "valorBoleto",
         "type": "\"double\""
        },
        {
         "metadata": "{}",
         "name": "quantidadeDOC",
         "type": "\"double\""
        },
        {
         "metadata": "{}",
         "name": "valorDOC",
         "type": "\"double\""
        }
       ],
       "type": "table"
      }
     },
     "output_type": "display_data"
    }
   ],
   "source": [
    "df.display()"
   ]
  },
  {
   "cell_type": "code",
   "execution_count": 0,
   "metadata": {
    "application/vnd.databricks.v1+cell": {
     "cellMetadata": {
      "byteLimit": 2048000,
      "rowLimit": 10000
     },
     "inputWidgets": {},
     "nuid": "2609c02f-d5e3-4311-b97b-d95f50b6dffc",
     "showTitle": false,
     "title": ""
    }
   },
   "outputs": [],
   "source": [
    "df = spark.createDataFrame(df)"
   ]
  },
  {
   "cell_type": "code",
   "execution_count": 0,
   "metadata": {
    "application/vnd.databricks.v1+cell": {
     "cellMetadata": {
      "byteLimit": 2048000,
      "rowLimit": 10000
     },
     "inputWidgets": {},
     "nuid": "afcca0c5-aaee-43d2-b468-b30f4a44a87a",
     "showTitle": false,
     "title": ""
    }
   },
   "outputs": [],
   "source": [
    "df.repartition(20)\\\n",
    "              .write.format(\"delta\")\\\n",
    "              .mode(\"overwrite\")\\\n",
    "              .partitionBy('AnoMes')\\\n",
    "              .option(\"overwriteSchema\", \"true\")\\\n",
    "              .save(\"/dbfs/meiospagamento\")"
   ]
  },
  {
   "cell_type": "code",
   "execution_count": 0,
   "metadata": {
    "application/vnd.databricks.v1+cell": {
     "cellMetadata": {
      "byteLimit": 2048000,
      "rowLimit": 10000
     },
     "inputWidgets": {},
     "nuid": "04b26584-5796-4e1e-a020-bda5142e5d7a",
     "showTitle": false,
     "title": ""
    }
   },
   "outputs": [],
   "source": []
  }
 ],
 "metadata": {
  "application/vnd.databricks.v1+notebook": {
   "dashboards": [],
   "environmentMetadata": null,
   "language": "python",
   "notebookMetadata": {
    "pythonIndentUnit": 4
   },
   "notebookName": "Leitura Meios de Pagamento",
   "widgets": {}
  }
 },
 "nbformat": 4,
 "nbformat_minor": 0
}
