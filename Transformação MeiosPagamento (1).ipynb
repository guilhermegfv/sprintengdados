{
 "cells": [
  {
   "cell_type": "code",
   "execution_count": 0,
   "metadata": {
    "application/vnd.databricks.v1+cell": {
     "cellMetadata": {
      "byteLimit": 2048000,
      "rowLimit": 10000
     },
     "inputWidgets": {},
     "nuid": "f8ba248c-5a53-47c8-a64e-b9469b111472",
     "showTitle": false,
     "title": ""
    }
   },
   "outputs": [],
   "source": [
    "from pyspark.sql.functions import *\n",
    "from pyspark.sql.window import Window"
   ]
  },
  {
   "cell_type": "code",
   "execution_count": 0,
   "metadata": {
    "application/vnd.databricks.v1+cell": {
     "cellMetadata": {
      "byteLimit": 2048000,
      "rowLimit": 10000
     },
     "inputWidgets": {},
     "nuid": "6cfe22a4-bd9f-4751-b576-e798ef89f8ef",
     "showTitle": false,
     "title": ""
    }
   },
   "outputs": [
    {
     "output_type": "stream",
     "name": "stdout",
     "output_type": "stream",
     "text": [
      "Out[30]: [FileInfo(path='dbfs:/dbfs/censo/', name='censo/', size=0, modificationTime=0),\n FileInfo(path='dbfs:/dbfs/meiospagamento/', name='meiospagamento/', size=0, modificationTime=0),\n FileInfo(path='dbfs:/dbfs/volumepix/', name='volumepix/', size=0, modificationTime=0)]"
     ]
    }
   ],
   "source": [
    "dbutils.fs.ls(\"dbfs:/dbfs/\")"
   ]
  },
  {
   "cell_type": "code",
   "execution_count": 0,
   "metadata": {
    "application/vnd.databricks.v1+cell": {
     "cellMetadata": {
      "byteLimit": 2048000,
      "rowLimit": 10000
     },
     "inputWidgets": {},
     "nuid": "5dd9d153-8f12-4c73-b006-214836497cc4",
     "showTitle": false,
     "title": ""
    }
   },
   "outputs": [],
   "source": [
    "df = spark.read.format(\"delta\").load(\"dbfs:/dbfs/meiospagamento\")"
   ]
  },
  {
   "cell_type": "code",
   "execution_count": 0,
   "metadata": {
    "application/vnd.databricks.v1+cell": {
     "cellMetadata": {
      "byteLimit": 2048000,
      "rowLimit": 10000
     },
     "inputWidgets": {},
     "nuid": "96c34757-235b-4d72-9f50-f34c4660f2eb",
     "showTitle": false,
     "title": ""
    }
   },
   "outputs": [],
   "source": [
    "# Transforming the DataFrame\n",
    "df_A = df.select(\"AnoMes\", lit(\"Pix\").alias(\"Metodo\"), df.valorPix.alias(\"Valor\"))\n",
    "df_B = df.select(\"AnoMes\", lit(\"TED\").alias(\"Metodo\"), df.valorTED.alias(\"Valor\"))\n",
    "df_C = df.select(\"AnoMes\", lit(\"TEC\").alias(\"Metodo\"), df.valorTEC.alias(\"Valor\"))\n",
    "df_D = df.select(\"AnoMes\", lit(\"Cheque\").alias(\"Metodo\"), df.valorCheque.alias(\"Valor\"))\n",
    "df_E = df.select(\"AnoMes\", lit(\"Boleto\").alias(\"Metodo\"), df.valorBoleto.alias(\"Valor\"))\n",
    "df_F = df.select(\"AnoMes\", lit(\"DOC\").alias(\"Metodo\"), df.valorDOC.alias(\"Valor\"))\n",
    "\n",
    "df_QA = df.select(\"AnoMes\", lit(\"Pix\").alias(\"Metodo\"), df.quantidadePix.alias(\"Quantidade\"))\n",
    "df_QB = df.select(\"AnoMes\", lit(\"TED\").alias(\"Metodo\"), df.quantidadeTED.alias(\"Quantidade\"))\n",
    "df_QC = df.select(\"AnoMes\", lit(\"TEC\").alias(\"Metodo\"), df.quantidadeTEC.alias(\"Quantidade\"))\n",
    "df_QD = df.select(\"AnoMes\", lit(\"Cheque\").alias(\"Metodo\"), df.quantidadeCheque.alias(\"Quantidade\"))\n",
    "df_QE = df.select(\"AnoMes\", lit(\"Boleto\").alias(\"Metodo\"), df.quantidadeBoleto.alias(\"Quantidade\"))\n",
    "df_QF = df.select(\"AnoMes\", lit(\"DOC\").alias(\"Metodo\"), df.quantidadeDOC.alias(\"Quantidade\"))"
   ]
  },
  {
   "cell_type": "code",
   "execution_count": 0,
   "metadata": {
    "application/vnd.databricks.v1+cell": {
     "cellMetadata": {
      "byteLimit": 2048000,
      "rowLimit": 10000
     },
     "inputWidgets": {},
     "nuid": "7e5404eb-484f-473a-a9cb-c141e1d0b370",
     "showTitle": false,
     "title": ""
    }
   },
   "outputs": [],
   "source": [
    "df_result = df_A.union(df_B).union(df_C).union(df_D).union(df_E).union(df_F)\n",
    "df_result_quantidade = df_QA.union(df_QB).union(df_QC).union(df_QD).union(df_QE).union(df_QF)"
   ]
  },
  {
   "cell_type": "code",
   "execution_count": 0,
   "metadata": {
    "application/vnd.databricks.v1+cell": {
     "cellMetadata": {
      "byteLimit": 2048000,
      "rowLimit": 10000
     },
     "inputWidgets": {},
     "nuid": "caadb449-a8a7-46d3-bd42-6767a1ae3402",
     "showTitle": false,
     "title": ""
    }
   },
   "outputs": [],
   "source": [
    "df = df_result.join(df_result_quantidade, on=[(df_result.AnoMes == df_result_quantidade.AnoMes) & (df_result.Metodo == df_result_quantidade.Metodo)], how = 'outer').select(df_result['*'], df_result_quantidade['Quantidade'])"
   ]
  },
  {
   "cell_type": "code",
   "execution_count": 0,
   "metadata": {
    "application/vnd.databricks.v1+cell": {
     "cellMetadata": {
      "byteLimit": 2048000,
      "rowLimit": 10000
     },
     "inputWidgets": {},
     "nuid": "ab40cfb0-5312-4fac-8bc2-fbc46a7b3315",
     "showTitle": false,
     "title": ""
    }
   },
   "outputs": [],
   "source": [
    "windowSpec = Window.partitionBy(\"AnoMes\")\n",
    "\n",
    "df = df.withColumn(\"soma_valor_mes\", sum(\"Valor\").over(windowSpec))\n",
    "df = df.withColumn(\"PercentualValor\", (col(\"Valor\") / col(\"soma_valor_mes\")))\n",
    "df = df.withColumn(\"PercentualValor\", round(col(\"PercentualValor\"), 5))\n",
    "\n",
    "df = df.withColumn(\"soma_quantidade_mes\", sum(\"Quantidade\").over(windowSpec))\n",
    "df = df.withColumn(\"PercentualQuantidade\", (col(\"Quantidade\") / col(\"soma_quantidade_mes\")))\n",
    "df = df.withColumn(\"PercentualQuantidade\", round(col(\"PercentualQuantidade\"), 5))\n",
    "\n",
    "df = df.drop('soma_valor_mes','soma_quantidade_mes')"
   ]
  },
  {
   "cell_type": "code",
   "execution_count": 0,
   "metadata": {
    "application/vnd.databricks.v1+cell": {
     "cellMetadata": {},
     "inputWidgets": {},
     "nuid": "e72a1bd6-a4d5-4598-8c8a-7d2ed37dbd03",
     "showTitle": false,
     "title": ""
    }
   },
   "outputs": [],
   "source": [
    "df.repartition(20)\\\n",
    "              .write.format(\"delta\")\\\n",
    "              .mode(\"overwrite\")\\\n",
    "              .partitionBy('AnoMes')\\\n",
    "              .option(\"overwriteSchema\", \"true\")\\\n",
    "              .save(\"/dbfs/meiospagamento_refinado\")"
   ]
  },
  {
   "cell_type": "code",
   "execution_count": 0,
   "metadata": {
    "application/vnd.databricks.v1+cell": {
     "cellMetadata": {
      "byteLimit": 2048000,
      "rowLimit": 10000
     },
     "inputWidgets": {},
     "nuid": "f17f3d63-bc5d-448c-b19f-888647209b9f",
     "showTitle": false,
     "title": ""
    }
   },
   "outputs": [
    {
     "output_type": "display_data",
     "data": {
      "text/html": [
       "<style scoped>\n",
       "  .table-result-container {\n",
       "    max-height: 300px;\n",
       "    overflow: auto;\n",
       "  }\n",
       "  table, th, td {\n",
       "    border: 1px solid black;\n",
       "    border-collapse: collapse;\n",
       "  }\n",
       "  th, td {\n",
       "    padding: 5px;\n",
       "  }\n",
       "  th {\n",
       "    text-align: left;\n",
       "  }\n",
       "</style><div class='table-result-container'><table class='table-result'><thead style='background-color: white'><tr><th>AnoMes</th><th>Metodo</th><th>Valor</th><th>Quantidade</th><th>PercentualValor</th><th>PercentualQuantidade</th></tr></thead><tbody><tr><td>202401</td><td>Boleto</td><td>516702.44</td><td>363550.32</td><td>0.09040261423320206</td><td>0.07545132173383859</td></tr><tr><td>202401</td><td>Cheque</td><td>41615.89</td><td>11919.12</td><td>0.00728114473320732</td><td>0.0024736970604350736</td></tr><tr><td>202401</td><td>DOC</td><td>616.58</td><td>600.76</td><td>1.0787726081554353E-4</td><td>1.2468187634883906E-4</td></tr><tr><td>202401</td><td>Pix</td><td>1818473.97</td><td>4371542.0</td><td>0.3181614563365125</td><td>0.9072708887039027</td></tr><tr><td>202401</td><td>TEC</td><td>815.94</td><td>387.18</td><td>1.427574235133066E-4</td><td>8.03554312616411E-5</td></tr><tr><td>202401</td><td>TED</td><td>3337344.85</td><td>70343.25</td><td>0.5839041500127493</td><td>0.01459905519421312</td></tr><tr><td>202402</td><td>Boleto</td><td>463066.01</td><td>332269.47</td><td>0.08905584130531206</td><td>0.06957504222182839</td></tr><tr><td>202402</td><td>Cheque</td><td>37076.26</td><td>10373.38</td><td>0.007130425156349716</td><td>0.0021721175631425607</td></tr><tr><td>202402</td><td>DOC</td><td>34.21</td><td>61.89</td><td>6.579192307927601E-6</td><td>1.2959359050077516E-5</td></tr><tr><td>202402</td><td>Pix</td><td>1718214.16</td><td>4367128.53</td><td>0.3304431857598446</td><td>0.914447998676801</td></tr><tr><td>202402</td><td>TEC</td><td>109.32</td><td>60.01</td><td>2.102418307812468E-5</td><td>1.2565699411781413E-5</td></tr><tr><td>202402</td><td>TED</td><td>2981226.45</td><td>65805.87</td><td>0.5733429444031075</td><td>0.013779316479766107</td></tr><tr><td>202403</td><td>Boleto</td><td>469047.59</td><td>336435.46</td><td>0.08122189112661857</td><td>0.06326991526346974</td></tr><tr><td>202403</td><td>Cheque</td><td>36644.55</td><td>10122.46</td><td>0.006345496094509154</td><td>0.0019036256952755868</td></tr><tr><td>202403</td><td>DOC</td><td>0.0</td><td>0.0</td><td>0.0</td><td>0.0</td></tr><tr><td>202403</td><td>Pix</td><td>1936144.86</td><td>4903340.45</td><td>0.3352694915760726</td><td>0.9221202033205524</td></tr><tr><td>202403</td><td>TEC</td><td>0.0</td><td>0.0</td><td>0.0</td><td>0.0</td></tr><tr><td>202403</td><td>TED</td><td>3333054.27</td><td>67565.05</td><td>0.5771631212027998</td><td>0.01270625572070226</td></tr><tr><td>202404</td><td>Boleto</td><td>524619.69</td><td>361633.28</td><td>0.0832166538249334</td><td>0.06736708651016013</td></tr><tr><td>202404</td><td>Cheque</td><td>43295.4</td><td>11179.22</td><td>0.006867638372498032</td><td>0.0020825281369461135</td></tr><tr><td>202404</td><td>DOC</td><td>0.0</td><td>0.0</td><td>0.0</td><td>0.0</td></tr><tr><td>202404</td><td>Pix</td><td>2083741.65</td><td>4924640.69</td><td>0.33052897337621</td><td>0.9173898358986337</td></tr><tr><td>202404</td><td>TEC</td><td>0.0</td><td>0.0</td><td>0.0</td><td>0.0</td></tr><tr><td>202404</td><td>TED</td><td>3652606.48</td><td>70647.15</td><td>0.5793867344263586</td><td>0.013160549454260012</td></tr><tr><td>202405</td><td>Boleto</td><td>506302.82</td><td>349180.92</td><td>0.0821132090145192</td><td>0.06171080063588219</td></tr><tr><td>202405</td><td>Cheque</td><td>40133.55</td><td>10467.85</td><td>0.0065089398072968605</td><td>0.0018499848285992242</td></tr><tr><td>202405</td><td>DOC</td><td>0.0</td><td>0.0</td><td>0.0</td><td>0.0</td></tr><tr><td>202405</td><td>Pix</td><td>2137438.65</td><td>5229671.82</td><td>0.3466540965013028</td><td>0.9242407491082594</td></tr><tr><td>202405</td><td>TEC</td><td>0.0</td><td>0.0</td><td>0.0</td><td>0.0</td></tr><tr><td>202405</td><td>TED</td><td>3482036.97</td><td>69023.11</td><td>0.5647237546768812</td><td>0.012198465427259216</td></tr></tbody></table></div>"
      ]
     },
     "metadata": {
      "application/vnd.databricks.v1+output": {
       "addedWidgets": {},
       "aggData": [],
       "aggError": "",
       "aggOverflow": false,
       "aggSchema": [],
       "aggSeriesLimitReached": false,
       "aggType": "",
       "arguments": {},
       "columnCustomDisplayInfos": {},
       "data": [
        [
         "202401",
         "Boleto",
         516702.44,
         363550.32,
         0.09040261423320206,
         0.07545132173383859
        ],
        [
         "202401",
         "Cheque",
         41615.89,
         11919.12,
         0.00728114473320732,
         0.0024736970604350736
        ],
        [
         "202401",
         "DOC",
         616.58,
         600.76,
         1.0787726081554353E-4,
         1.2468187634883906E-4
        ],
        [
         "202401",
         "Pix",
         1818473.97,
         4371542.0,
         0.3181614563365125,
         0.9072708887039027
        ],
        [
         "202401",
         "TEC",
         815.94,
         387.18,
         1.427574235133066E-4,
         8.03554312616411E-5
        ],
        [
         "202401",
         "TED",
         3337344.85,
         70343.25,
         0.5839041500127493,
         0.01459905519421312
        ],
        [
         "202402",
         "Boleto",
         463066.01,
         332269.47,
         0.08905584130531206,
         0.06957504222182839
        ],
        [
         "202402",
         "Cheque",
         37076.26,
         10373.38,
         0.007130425156349716,
         0.0021721175631425607
        ],
        [
         "202402",
         "DOC",
         34.21,
         61.89,
         6.579192307927601E-6,
         1.2959359050077516E-5
        ],
        [
         "202402",
         "Pix",
         1718214.16,
         4367128.53,
         0.3304431857598446,
         0.914447998676801
        ],
        [
         "202402",
         "TEC",
         109.32,
         60.01,
         2.102418307812468E-5,
         1.2565699411781413E-5
        ],
        [
         "202402",
         "TED",
         2981226.45,
         65805.87,
         0.5733429444031075,
         0.013779316479766107
        ],
        [
         "202403",
         "Boleto",
         469047.59,
         336435.46,
         0.08122189112661857,
         0.06326991526346974
        ],
        [
         "202403",
         "Cheque",
         36644.55,
         10122.46,
         0.006345496094509154,
         0.0019036256952755868
        ],
        [
         "202403",
         "DOC",
         0.0,
         0.0,
         0.0,
         0.0
        ],
        [
         "202403",
         "Pix",
         1936144.86,
         4903340.45,
         0.3352694915760726,
         0.9221202033205524
        ],
        [
         "202403",
         "TEC",
         0.0,
         0.0,
         0.0,
         0.0
        ],
        [
         "202403",
         "TED",
         3333054.27,
         67565.05,
         0.5771631212027998,
         0.01270625572070226
        ],
        [
         "202404",
         "Boleto",
         524619.69,
         361633.28,
         0.0832166538249334,
         0.06736708651016013
        ],
        [
         "202404",
         "Cheque",
         43295.4,
         11179.22,
         0.006867638372498032,
         0.0020825281369461135
        ],
        [
         "202404",
         "DOC",
         0.0,
         0.0,
         0.0,
         0.0
        ],
        [
         "202404",
         "Pix",
         2083741.65,
         4924640.69,
         0.33052897337621,
         0.9173898358986337
        ],
        [
         "202404",
         "TEC",
         0.0,
         0.0,
         0.0,
         0.0
        ],
        [
         "202404",
         "TED",
         3652606.48,
         70647.15,
         0.5793867344263586,
         0.013160549454260012
        ],
        [
         "202405",
         "Boleto",
         506302.82,
         349180.92,
         0.0821132090145192,
         0.06171080063588219
        ],
        [
         "202405",
         "Cheque",
         40133.55,
         10467.85,
         0.0065089398072968605,
         0.0018499848285992242
        ],
        [
         "202405",
         "DOC",
         0.0,
         0.0,
         0.0,
         0.0
        ],
        [
         "202405",
         "Pix",
         2137438.65,
         5229671.82,
         0.3466540965013028,
         0.9242407491082594
        ],
        [
         "202405",
         "TEC",
         0.0,
         0.0,
         0.0,
         0.0
        ],
        [
         "202405",
         "TED",
         3482036.97,
         69023.11,
         0.5647237546768812,
         0.012198465427259216
        ]
       ],
       "datasetInfos": [],
       "dbfsResultPath": null,
       "isJsonSchema": true,
       "metadata": {},
       "overflow": false,
       "plotOptions": {
        "customPlotOptions": {},
        "displayType": "table",
        "pivotAggregation": null,
        "pivotColumns": null,
        "xColumns": null,
        "yColumns": null
       },
       "removedWidgets": [],
       "schema": [
        {
         "metadata": "{}",
         "name": "AnoMes",
         "type": "\"string\""
        },
        {
         "metadata": "{}",
         "name": "Metodo",
         "type": "\"string\""
        },
        {
         "metadata": "{}",
         "name": "Valor",
         "type": "\"double\""
        },
        {
         "metadata": "{}",
         "name": "Quantidade",
         "type": "\"double\""
        },
        {
         "metadata": "{}",
         "name": "PercentualValor",
         "type": "\"double\""
        },
        {
         "metadata": "{}",
         "name": "PercentualQuantidade",
         "type": "\"double\""
        }
       ],
       "type": "table"
      }
     },
     "output_type": "display_data"
    }
   ],
   "source": [
    "df.display()"
   ]
  },
  {
   "cell_type": "code",
   "execution_count": 0,
   "metadata": {
    "application/vnd.databricks.v1+cell": {
     "cellMetadata": {
      "byteLimit": 2048000,
      "rowLimit": 10000
     },
     "inputWidgets": {},
     "nuid": "a3446793-256f-49c7-b8dd-8dd6179364be",
     "showTitle": false,
     "title": ""
    }
   },
   "outputs": [],
   "source": []
  }
 ],
 "metadata": {
  "application/vnd.databricks.v1+notebook": {
   "dashboards": [],
   "environmentMetadata": null,
   "language": "python",
   "notebookMetadata": {
    "pythonIndentUnit": 4
   },
   "notebookName": "Transformação MeiosPagamento",
   "widgets": {}
  }
 },
 "nbformat": 4,
 "nbformat_minor": 0
}
